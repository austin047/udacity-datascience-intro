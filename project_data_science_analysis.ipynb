{
 "cells": [
  {
   "cell_type": "markdown",
   "metadata": {},
   "source": [
    "## Udacity Project Data Science "
   ]
  },
  {
   "cell_type": "markdown",
   "metadata": {},
   "source": [
    "## In this notebook we use Stackoverflow’s 2017 Annual Developer Survey to answer some buisness question related to the techfield.\n"
   ]
  },
  {
   "cell_type": "markdown",
   "metadata": {},
   "source": [
    "## Buisness Question\n",
    "\n",
    "### 1. Does an individual need a higher degree to earn high in the tech industry  \n",
    "### 2. What are the other forms of education fulltime and parttime workers in the tech industry take aswell apart from formal education \n",
    "### 3. What are some of the self-taught types individuals in the tech fields use for thier day to day questions and problems"
   ]
  },
  {
   "cell_type": "markdown",
   "metadata": {},
   "source": [
    "---"
   ]
  },
  {
   "cell_type": "code",
   "execution_count": 1,
   "metadata": {},
   "outputs": [],
   "source": [
    "## Imports \n",
    "import numpy as np\n",
    "import pandas as pd\n",
    "import matplotlib.pyplot as plt\n",
    "%matplotlib inline"
   ]
  },
  {
   "cell_type": "markdown",
   "metadata": {},
   "source": [
    "### Data Wrangling \n",
    "This stage involves 2 major steps into the preparing the data for anysis which are data aquring and data cleaning. the process of data is aquiring will be gone once will the data cleaning will involve iterative processes for each of the buisness question we have to to answer. "
   ]
  },
  {
   "cell_type": "markdown",
   "metadata": {},
   "source": [
    "#### Data Gathering "
   ]
  },
  {
   "cell_type": "code",
   "execution_count": 3,
   "metadata": {},
   "outputs": [],
   "source": [
    "## Aquiring data \n",
    "\n",
    "df = pd.read_csv('./survey-results-public.csv')\n",
    "df_schema = pd.read_csv('./survey-results-schema.csv')"
   ]
  },
  {
   "cell_type": "code",
   "execution_count": null,
   "metadata": {},
   "outputs": [],
   "source": []
  },
  {
   "cell_type": "markdown",
   "metadata": {},
   "source": [
    "## 1. Does an individual need a higher degree to earn high in tech companies "
   ]
  },
  {
   "cell_type": "markdown",
   "metadata": {},
   "source": [
    "To do our findings on this we make use of the FormalEducation and Salary columns of the data frame to extract clean and make a visualization"
   ]
  },
  {
   "cell_type": "markdown",
   "metadata": {},
   "source": [
    "#### Data Cleaning"
   ]
  },
  {
   "cell_type": "code",
   "execution_count": 21,
   "metadata": {},
   "outputs": [],
   "source": [
    "## Drop all nan's from the FormalEducation Coulumn\n",
    "edu_df = df.dropna(subset=['FormalEducation'])\n",
    "# edu_df = pd.DataFrame(edu_df.query(\"EmploymentStatus != 'Employed full-time' or EmploymentStatus != 'Employed part-time'\"))"
   ]
  },
  {
   "cell_type": "code",
   "execution_count": 22,
   "metadata": {},
   "outputs": [],
   "source": [
    "## Group Salaries by FormalEducation\n",
    "new_df = edu_df.groupby(['FormalEducation'])['Salary'].mean().sort_values(ascending=True)"
   ]
  },
  {
   "cell_type": "markdown",
   "metadata": {},
   "source": [
    "#### Data Analysis\n",
    "For this anysis, no machine leaning will be used hence we will not impute missing values in our data set but drop missing rows, in this case we drop rows that have no FormalEducation specified."
   ]
  },
  {
   "cell_type": "markdown",
   "metadata": {},
   "source": [
    "#### Data Modeling \n",
    "Since this analysis that does not involve any machine learning algoithms like making prediction on the data set we do not need to do any modeling since here we will used only descriptive and inferential statistics to get our results."
   ]
  },
  {
   "cell_type": "markdown",
   "metadata": {},
   "source": [
    "#### Data Visualization \n",
    "We plot EducationLevel againts the Salary ($) to visualize and carry out our inferencing. "
   ]
  },
  {
   "cell_type": "code",
   "execution_count": 23,
   "metadata": {},
   "outputs": [
    {
     "data": {
      "image/png": "[encoded data removed]",
      "text/plain": [
       "<Figure size 432x288 with 1 Axes>"
      ]
     },
     "metadata": {
      "needs_background": "light"
     },
     "output_type": "display_data"
    }
   ],
   "source": [
    "## Visualization and analysis, plot a bar chart for visualization\n",
    "ax = new_df.plot.barh(title=\"Level of Education to Salary\")\n",
    "ax.set_xlabel(\"Salary ($)\")\n",
    "ax.set_ylabel(\"EducationLevel\");"
   ]
  },
  {
   "cell_type": "markdown",
   "metadata": {},
   "source": [
    "### Results \n",
    "#### The visualization doesn't show a mojor difference between inviduals with higher education and lower with the exception of those with Doctoral Degree"
   ]
  },
  {
   "cell_type": "code",
   "execution_count": null,
   "metadata": {},
   "outputs": [],
   "source": []
  },
  {
   "cell_type": "markdown",
   "metadata": {},
   "source": [
    "### 2. What are the other forms of education fulltime and parttime workers in the tech industry take aswell apart from formal education \n"
   ]
  },
  {
   "cell_type": "markdown",
   "metadata": {},
   "source": [
    "We extract from the data set all the employees who either work falltime or parttime to determine thier highest level of education, we then use a visualization to demonstrate"
   ]
  },
  {
   "cell_type": "markdown",
   "metadata": {},
   "source": [
    "#### Data Cleaning"
   ]
  },
  {
   "cell_type": "code",
   "execution_count": 4,
   "metadata": {},
   "outputs": [],
   "source": [
    "## Data Cleaning\n",
    "## Extract full and part-time workers and make a dataframe with one column 'EducationTypes' \n",
    "workders_dp = pd.DataFrame(df.query(\"EmploymentStatus != 'Employed full-time' or EmploymentStatus != 'Employed part-time'\"))['EducationTypes'].dropna()"
   ]
  },
  {
   "cell_type": "code",
   "execution_count": 5,
   "metadata": {},
   "outputs": [],
   "source": [
    "def convert_semicolon_sep_string_to_list(string):\n",
    "    '''\n",
    "    INPUT \n",
    "        string - an arbirary string with semicolon seperations \n",
    "        \n",
    "        \n",
    "    OUTPUT\n",
    "        string_list - List of string\n",
    "    '''\n",
    "    \n",
    "    return [el.strip() for el in string.split(';')] "
   ]
  },
  {
   "cell_type": "code",
   "execution_count": 6,
   "metadata": {},
   "outputs": [],
   "source": [
    "# EducationTypes is a string reperated with ';', split the string at the delimeter ';' to make a list abd trim wite spaces \n",
    "exp_df = pd.DataFrame(workders_dp.apply(convert_semicolon_sep_string_to_list))\n",
    "# exp_df.head()"
   ]
  },
  {
   "cell_type": "code",
   "execution_count": 7,
   "metadata": {},
   "outputs": [],
   "source": [
    "## Explode the list and determine the value count for all the possible resonses \n",
    "new_df = exp_df.explode('EducationTypes')['EducationTypes'].value_counts().sort_values()"
   ]
  },
  {
   "cell_type": "markdown",
   "metadata": {},
   "source": [
    "#### Data Analysis\n",
    "For this anysis, no machine leaning will be used hence we will not impute missing values in our data set but drop missing rows, in this case we drop rows that have no EducatinTypes specified. "
   ]
  },
  {
   "cell_type": "markdown",
   "metadata": {},
   "source": [
    "#### Data Modeling \n",
    "Since this analysis that does not involve any machine learning algoithms like making prediction on the data set we do not need to do any modeling since here we will used only descriptive and inferential statistics to get our results."
   ]
  },
  {
   "cell_type": "markdown",
   "metadata": {},
   "source": [
    "#### Data Visualization¶\n",
    "We plot EducationTypes  againts the Total Response Ratio."
   ]
  },
  {
   "cell_type": "code",
   "execution_count": 8,
   "metadata": {},
   "outputs": [
    {
     "data": {
      "image/png": "[encoded data removed]",
      "text/plain": [
       "<Figure size 432x288 with 1 Axes>"
      ]
     },
     "metadata": {
      "needs_background": "light"
     },
     "output_type": "display_data"
    }
   ],
   "source": [
    "## Visualization and analysis, plot a bar chart for visualization\n",
    "ax = new_df.plot.barh(title=\"Other Education Types\")\n",
    "ax.set_xlabel(\"Total Responses\")\n",
    "ax.set_ylabel(\"EducationTypes\");"
   ]
  },
  {
   "cell_type": "markdown",
   "metadata": {},
   "source": [
    "### Results\n",
    "#### The visualization shows a majority of full time and part-time employers take options of being self-taught and online courses as other education types and bootcamps being the least."
   ]
  },
  {
   "cell_type": "code",
   "execution_count": null,
   "metadata": {},
   "outputs": [],
   "source": []
  },
  {
   "cell_type": "markdown",
   "metadata": {},
   "source": [
    "### 3. What are some of the self taught types individuals in the tech fields use for thier day to day questions and problems"
   ]
  },
  {
   "cell_type": "markdown",
   "metadata": {},
   "source": [
    "Self thought types here range of additional resources indivuduals in the techfield to solve some thier day to day questions and do findings"
   ]
  },
  {
   "cell_type": "markdown",
   "metadata": {},
   "source": [
    "#### Data Cleaning"
   ]
  },
  {
   "cell_type": "code",
   "execution_count": 9,
   "metadata": {},
   "outputs": [],
   "source": [
    "## Data Cleaning\n",
    "## Drop all nan fields from the 'SelfThoughTypes' column\n",
    "selfth_df = df.dropna(subset=['SelfTaughtTypes'], how='any')[['SelfTaughtTypes']]"
   ]
  },
  {
   "cell_type": "code",
   "execution_count": 10,
   "metadata": {},
   "outputs": [],
   "source": [
    "## Split the strings in the SelfThoughTypes' column which returns a list, the for all string in list strip the white spaces from the string\n",
    "selfth_df['SelfTaughtTypes'] = selfth_df['SelfTaughtTypes'].apply(convert_semicolon_sep_string_to_list)"
   ]
  },
  {
   "cell_type": "code",
   "execution_count": 11,
   "metadata": {},
   "outputs": [],
   "source": [
    "## Explode the list and determine the value count for all the possible resonses \n",
    "new_df = selfth_df.explode('SelfTaughtTypes')['SelfTaughtTypes'].value_counts().sort_values()"
   ]
  },
  {
   "cell_type": "markdown",
   "metadata": {},
   "source": [
    "#### Data Analysis\n",
    "For this anysis, no machine leaning will be used hence we will not impute missing values in our data set but drop missing rows, in this case we drop rows that have no SelfTaughtTypes specified.(missen values for SelfTaughtTypes Column)"
   ]
  },
  {
   "cell_type": "markdown",
   "metadata": {},
   "source": [
    "#### Data Modeling \n",
    "Since this analysis that does not involve any machine learning algoithms like making prediction on the data set we do not need to do any modeling since here we will used only descriptive and inferential statistics to get our results."
   ]
  },
  {
   "cell_type": "markdown",
   "metadata": {},
   "source": [
    "#### Data Visualization¶\n",
    "We plot Self-Taught Options  againts the Individual Propotion."
   ]
  },
  {
   "cell_type": "code",
   "execution_count": 13,
   "metadata": {},
   "outputs": [
    {
     "data": {
      "image/png": "[encoded data removed]",
      "text/plain": [
       "<Figure size 432x288 with 1 Axes>"
      ]
     },
     "metadata": {
      "needs_background": "light"
     },
     "output_type": "display_data"
    }
   ],
   "source": [
    "## Visualization and analysis, plot a bar chart for visualization\n",
    "ax = (new_df/new_df.sum()).plot.barh(title=\"Propotion of Individuals\")\n",
    "ax.set_xlabel(\"Propotions\")\n",
    "ax.set_ylabel(\"Self-Taught Options\");"
   ]
  },
  {
   "cell_type": "markdown",
   "metadata": {},
   "source": [
    "### Results\n",
    "#### The visualization shows a majority of people go for the Official documentation and stack overflow for selfthought options"
   ]
  },
  {
   "cell_type": "code",
   "execution_count": null,
   "metadata": {},
   "outputs": [],
   "source": []
  },
  {
   "cell_type": "markdown",
   "metadata": {},
   "source": [
    "## Evaluations of Results and Conclusion:\n",
    "\n",
    "### Question 1: Does an individual need a higher degree to earn high in tech companies.\n",
    "### Results: Not Neccessarily, with the exception of Doctoral degree individuals can still earn high even without the Higher degrees.\n",
    "---\n",
    "### Questions 2: What are the other forms of education fulltime and parttime workers in the tech industry take aswell apart from formal education.\n",
    "### Results: There are a couple of other educatinal scources other than formal education, from the analysis done here being selfthought, online cources and On the job training account for the other scources of education.\n",
    "---\n",
    "### Question 3: What are some of the self-taught types individuals in the tech fields use for thier day to day questions and problems.\n",
    "### Results: From the analysis done we see a couple of self-taught types and Officail Documentation and Stack Overflow Q&A accounts for the majority of the self thought types individuals take as an option"
   ]
  },
  {
   "cell_type": "code",
   "execution_count": null,
   "metadata": {},
   "outputs": [],
   "source": []
  }
 ],
 "metadata": {
  "kernelspec": {
   "display_name": "Python 3",
   "language": "python",
   "name": "python3"
  },
  "language_info": {
   "codemirror_mode": {
    "name": "ipython",
    "version": 3
   },
   "file_extension": ".py",
   "mimetype": "text/x-python",
   "name": "python",
   "nbconvert_exporter": "python",
   "pygments_lexer": "ipython3",
   "version": "3.7.6"
  }
 },
 "nbformat": 4,
 "nbformat_minor": 4
}
